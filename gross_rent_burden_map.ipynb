{
 "cells": [
  {
   "cell_type": "code",
   "execution_count": null,
   "source": [
    "import streamlit as st\n",
    "import pandas as pd\n",
    "import numpy as np\n",
    "import matplotlib.pyplot as plt\n",
    "import pydeck as pdk\n",
    "import plotly.figure_factory as ff\n",
    "import plotly.express as px"
   ],
   "outputs": [],
   "metadata": {}
  },
  {
   "cell_type": "markdown",
   "source": [
    "## Dataset and documentation \n",
    "\n",
    "### Gross Rent as A Percentage of Household Income in the Past 12 Months\n",
    "Source - 2020 ACS 5 - Year Estimates\n",
    "https://data.census.gov/cedsci/table?q=B25070%3A%20GROSS%20RENT%20AS%20A%20PERCENTAGE%20OF%20HOUSEHOLD%\n",
    "20INCOME%20IN%20THE%20PAST%2012%20MONTHS&g=0500000US26099,26125,26163&tid=ACSDT1Y2019.B25070"
   ],
   "metadata": {}
  },
  {
   "cell_type": "code",
   "execution_count": 37,
   "source": [
    "gross_rent_df = pd.read_csv('ACSDT5Y2020.B25070-2022-03-30T235455.csv', decimal=',')"
   ],
   "outputs": [],
   "metadata": {}
  },
  {
   "cell_type": "markdown",
   "source": [
    "### Michigan Fips Codes"
   ],
   "metadata": {}
  },
  {
   "cell_type": "code",
   "execution_count": 38,
   "source": [
    "fips_df = pd.read_excel('all-geocodes-v2020.xlsx')"
   ],
   "outputs": [],
   "metadata": {}
  },
  {
   "cell_type": "markdown",
   "source": [
    "## Data Transformations"
   ],
   "metadata": {}
  },
  {
   "cell_type": "code",
   "execution_count": 39,
   "source": [
    "gross_rent_df = pd.read_csv('ACSDT5Y2020.B25070-2022-03-30T235455.csv', decimal=',')\n",
    "indices=[9]\n",
    "gross_rent_df = gross_rent_df[gross_rent_df.index.isin(indices)]\n",
    "gross_rent_df = gross_rent_df[gross_rent_df.columns.drop(list(gross_rent_df.filter(regex='Error')))]\n",
    "gross_rent_df = gross_rent_df.T\n",
    "gross_rent_df = gross_rent_df.rename(columns={9: '50.0 percent or more'})\n",
    "gross_rent_df = gross_rent_df[1:]\n",
    "gross_rent_df['50.0 percent or more'] = gross_rent_df['50.0 percent or more'].apply(lambda x: int(x))\n",
    "gross_rent_df.rename(columns={'index': 'County'}, inplace=True)"
   ],
   "outputs": [],
   "metadata": {}
  },
  {
   "cell_type": "code",
   "execution_count": 40,
   "source": [
    "fips_df = fips_df[1:]\n",
    "fips_df = fips_df[3:]\n",
    "fips_df = fips_df[(fips_df['Estimates Geography File: Vintage 2020']=='050')&(fips_df['Unnamed: 1']=='26')]\n",
    "fips_df['fips_code'] = fips_df['Unnamed: 1'] + fips_df['Unnamed: 2']\n",
    "fips_df.rename(columns={'Unnamed: 1': 'State', 'Unnamed: 2': 'County code', 'Unnamed: 6': 'County'}, inplace=True)"
   ],
   "outputs": [],
   "metadata": {}
  },
  {
   "cell_type": "code",
   "execution_count": 41,
   "source": [
    "#merge fips codes with values\n",
    "gross_rent_df['fips_codes'] = list(fips_df['fips_code'])\n",
    "gross_rent_df['counties'] = list(fips_df['County'])\n"
   ],
   "outputs": [],
   "metadata": {}
  },
  {
   "cell_type": "code",
   "execution_count": 42,
   "source": [
    "gross_rent_df.head()"
   ],
   "outputs": [
    {
     "output_type": "execute_result",
     "data": {
      "text/html": [
       "<div>\n",
       "<style scoped>\n",
       "    .dataframe tbody tr th:only-of-type {\n",
       "        vertical-align: middle;\n",
       "    }\n",
       "\n",
       "    .dataframe tbody tr th {\n",
       "        vertical-align: top;\n",
       "    }\n",
       "\n",
       "    .dataframe thead th {\n",
       "        text-align: right;\n",
       "    }\n",
       "</style>\n",
       "<table border=\"1\" class=\"dataframe\">\n",
       "  <thead>\n",
       "    <tr style=\"text-align: right;\">\n",
       "      <th></th>\n",
       "      <th>50.0 percent or more</th>\n",
       "      <th>fips_codes</th>\n",
       "      <th>counties</th>\n",
       "    </tr>\n",
       "  </thead>\n",
       "  <tbody>\n",
       "    <tr>\n",
       "      <th>Alcona County, Michigan!!Estimate</th>\n",
       "      <td>114</td>\n",
       "      <td>26001</td>\n",
       "      <td>Alcona County</td>\n",
       "    </tr>\n",
       "    <tr>\n",
       "      <th>Alger County, Michigan!!Estimate</th>\n",
       "      <td>72</td>\n",
       "      <td>26003</td>\n",
       "      <td>Alger County</td>\n",
       "    </tr>\n",
       "    <tr>\n",
       "      <th>Allegan County, Michigan!!Estimate</th>\n",
       "      <td>911</td>\n",
       "      <td>26005</td>\n",
       "      <td>Allegan County</td>\n",
       "    </tr>\n",
       "    <tr>\n",
       "      <th>Alpena County, Michigan!!Estimate</th>\n",
       "      <td>382</td>\n",
       "      <td>26007</td>\n",
       "      <td>Alpena County</td>\n",
       "    </tr>\n",
       "    <tr>\n",
       "      <th>Antrim County, Michigan!!Estimate</th>\n",
       "      <td>180</td>\n",
       "      <td>26009</td>\n",
       "      <td>Antrim County</td>\n",
       "    </tr>\n",
       "  </tbody>\n",
       "</table>\n",
       "</div>"
      ],
      "text/plain": [
       "                                    50.0 percent or more fips_codes  \\\n",
       "Alcona County, Michigan!!Estimate                    114      26001   \n",
       "Alger County, Michigan!!Estimate                      72      26003   \n",
       "Allegan County, Michigan!!Estimate                   911      26005   \n",
       "Alpena County, Michigan!!Estimate                    382      26007   \n",
       "Antrim County, Michigan!!Estimate                    180      26009   \n",
       "\n",
       "                                          counties  \n",
       "Alcona County, Michigan!!Estimate    Alcona County  \n",
       "Alger County, Michigan!!Estimate      Alger County  \n",
       "Allegan County, Michigan!!Estimate  Allegan County  \n",
       "Alpena County, Michigan!!Estimate    Alpena County  \n",
       "Antrim County, Michigan!!Estimate    Antrim County  "
      ]
     },
     "metadata": {},
     "execution_count": 42
    }
   ],
   "metadata": {}
  },
  {
   "cell_type": "code",
   "execution_count": null,
   "source": [
    "import plotly.io as pio\n",
    "#pio.renderers.default = \"notebook\"\n",
    "pio.renderers.default = \"vscode\""
   ],
   "outputs": [],
   "metadata": {}
  },
  {
   "cell_type": "code",
   "execution_count": 44,
   "source": [
    "pip show plotly"
   ],
   "outputs": [
    {
     "output_type": "stream",
     "name": "stdout",
     "text": [
      "Note: you may need to restart the kernel to use updated packages.\n"
     ]
    }
   ],
   "metadata": {}
  },
  {
   "cell_type": "code",
   "execution_count": 47,
   "source": [
    "fips = gross_rent_df['fips_codes']\n",
    "values = gross_rent_df['50.0 percent or more']\n",
    "\n",
    "fig = ff.create_choropleth(fips=fips, values=values)\n",
    "fig.layout.template = None\n",
    "fig.show()\n",
    "\n"
   ],
   "outputs": [
    {
     "output_type": "error",
     "ename": "ImportError",
     "evalue": "geopandas, pyshp and shapely must be installed for this figure factory.\n\nRun the following commands to install the correct versions of the following modules:\n\n```\n$ pip install geopandas==0.3.0\n$ pip install pyshp==1.2.10\n$ pip install shapely==1.6.3\n```\nIf you are using Windows, follow this post to properly install geopandas and dependencies:http://geoffboeing.com/2014/09/using-geopandas-windows/\n\nIf you are using Anaconda, do not use PIP to install the packages above. Instead use conda to install them:\n\n```\n$ conda install plotly\n$ conda install geopandas\n```",
     "traceback": [
      "\u001b[0;31m---------------------------------------------------------------------------\u001b[0m",
      "\u001b[0;31mImportError\u001b[0m                               Traceback (most recent call last)",
      "\u001b[0;32m<ipython-input-47-b885526c456a>\u001b[0m in \u001b[0;36m<module>\u001b[0;34m\u001b[0m\n\u001b[1;32m      2\u001b[0m \u001b[0mvalues\u001b[0m \u001b[0;34m=\u001b[0m \u001b[0mgross_rent_df\u001b[0m\u001b[0;34m[\u001b[0m\u001b[0;34m'50.0 percent or more'\u001b[0m\u001b[0;34m]\u001b[0m\u001b[0;34m\u001b[0m\u001b[0;34m\u001b[0m\u001b[0m\n\u001b[1;32m      3\u001b[0m \u001b[0;34m\u001b[0m\u001b[0m\n\u001b[0;32m----> 4\u001b[0;31m \u001b[0mfig\u001b[0m \u001b[0;34m=\u001b[0m \u001b[0mff\u001b[0m\u001b[0;34m.\u001b[0m\u001b[0mcreate_choropleth\u001b[0m\u001b[0;34m(\u001b[0m\u001b[0mfips\u001b[0m\u001b[0;34m=\u001b[0m\u001b[0mfips\u001b[0m\u001b[0;34m,\u001b[0m \u001b[0mvalues\u001b[0m\u001b[0;34m=\u001b[0m\u001b[0mvalues\u001b[0m\u001b[0;34m)\u001b[0m\u001b[0;34m\u001b[0m\u001b[0;34m\u001b[0m\u001b[0m\n\u001b[0m\u001b[1;32m      5\u001b[0m \u001b[0mfig\u001b[0m\u001b[0;34m.\u001b[0m\u001b[0mlayout\u001b[0m\u001b[0;34m.\u001b[0m\u001b[0mtemplate\u001b[0m \u001b[0;34m=\u001b[0m \u001b[0;32mNone\u001b[0m\u001b[0;34m\u001b[0m\u001b[0;34m\u001b[0m\u001b[0m\n\u001b[1;32m      6\u001b[0m \u001b[0mfig\u001b[0m\u001b[0;34m.\u001b[0m\u001b[0mshow\u001b[0m\u001b[0;34m(\u001b[0m\u001b[0;34m)\u001b[0m\u001b[0;34m\u001b[0m\u001b[0;34m\u001b[0m\u001b[0m\n",
      "\u001b[0;32m~/opt/anaconda3/lib/python3.8/site-packages/plotly/figure_factory/_county_choropleth.py\u001b[0m in \u001b[0;36mcreate_choropleth\u001b[0;34m(fips, values, scope, binning_endpoints, colorscale, order, simplify_county, simplify_state, asp, show_hover, show_state_data, state_outline, county_outline, centroid_marker, round_legend_values, exponent_format, legend_title, **layout_options)\u001b[0m\n",
      "\u001b[0;31mImportError\u001b[0m: geopandas, pyshp and shapely must be installed for this figure factory.\n\nRun the following commands to install the correct versions of the following modules:\n\n```\n$ pip install geopandas==0.3.0\n$ pip install pyshp==1.2.10\n$ pip install shapely==1.6.3\n```\nIf you are using Windows, follow this post to properly install geopandas and dependencies:http://geoffboeing.com/2014/09/using-geopandas-windows/\n\nIf you are using Anaconda, do not use PIP to install the packages above. Instead use conda to install them:\n\n```\n$ conda install plotly\n$ conda install geopandas\n```"
     ]
    }
   ],
   "metadata": {}
  },
  {
   "cell_type": "code",
   "execution_count": 12,
   "source": [
    "conda update --all\n"
   ],
   "outputs": [
    {
     "output_type": "stream",
     "name": "stdout",
     "text": [
      "Collecting package metadata (current_repodata.json): done\n",
      "Solving environment: done\n",
      "\n",
      "## Package Plan ##\n",
      "\n",
      "  environment location: /Users/narainyucel/opt/anaconda3\n",
      "\n",
      "\n",
      "The following packages will be downloaded:\n",
      "\n",
      "    package                    |            build\n",
      "    ---------------------------|-----------------\n",
      "    absl-py-0.15.0             |     pyhd3eb1b0_0         103 KB\n",
      "    altair-4.1.0               |             py_1         484 KB\n",
      "    backports.functools_lru_cache-1.6.4|     pyhd3eb1b0_0           9 KB\n",
      "    backports.tempfile-1.0     |     pyhd3eb1b0_1          11 KB\n",
      "    cftime-1.5.1.1             |   py38h67323c0_0         177 KB\n",
      "    clangxx_osx-64-10.0.0      |       h05bbb7f_1          22 KB\n",
      "    conda-build-3.21.8         |   py38hecd8cb5_2         554 KB\n",
      "    conda-package-handling-1.8.0|   py38hca72f7f_0         1.5 MB\n",
      "    dill-0.3.4                 |     pyhd3eb1b0_0          61 KB\n",
      "    fastprogress-1.0.0         |     pyhb85f177_0          16 KB\n",
      "    hdf4-4.2.13                |       h39711bb_2         682 KB\n",
      "    libgpuarray-0.7.6          |       hca72f7f_1         164 KB\n",
      "    mako-1.1.4                 |     pyhd3eb1b0_0          61 KB\n",
      "    navigator-updater-0.2.1    |           py38_1         687 KB\n",
      "    opt_einsum-3.3.0           |     pyhd3eb1b0_1          57 KB\n",
      "    pygpu-0.7.6                |   py38h67323c0_1         466 KB\n",
      "    python-flatbuffers-2.0     |     pyhd3eb1b0_0          34 KB\n",
      "    tapi-1000.10.8             |       ha1b3eb9_0         4.2 MB\n",
      "    vega_datasets-0.7.0        |             py_0         325 KB\n",
      "    xarray-0.20.1              |     pyhd3eb1b0_1         563 KB\n",
      "    xmltodict-0.12.0           |     pyhd3eb1b0_0          13 KB\n",
      "    ------------------------------------------------------------\n",
      "                                           Total:        10.1 MB\n",
      "\n",
      "The following packages will be UPDATED:\n",
      "\n",
      "  absl-py            conda-forge::absl-py-0.13.0-pyhd8ed1a~ --> pkgs/main::absl-py-0.15.0-pyhd3eb1b0_0\n",
      "  backports.functoo~                             1.6.1-py_0 --> 1.6.4-pyhd3eb1b0_0\n",
      "  cftime             conda-forge::cftime-1.5.0-py38h079369~ --> pkgs/main::cftime-1.5.1.1-py38h67323c0_0\n",
      "  clangxx_osx-64     conda-forge::clangxx_osx-64-10.0.0-h0~ --> pkgs/main::clangxx_osx-64-10.0.0-h05bbb7f_1\n",
      "  conda-build                                 3.20.5-py38_1 --> 3.21.8-py38hecd8cb5_2\n",
      "  conda-package-han~                   1.7.2-py38h22f3db7_0 --> 1.8.0-py38hca72f7f_0\n",
      "  hdf4                           conda-forge::hdf4-4.2.13-0 --> pkgs/main::hdf4-4.2.13-h39711bb_2\n",
      "  navigator-updater                            0.2.1-py38_0 --> 0.2.1-py38_1\n",
      "  xarray             conda-forge::xarray-0.18.2-pyhd8ed1ab~ --> pkgs/main::xarray-0.20.1-pyhd3eb1b0_1\n",
      "\n",
      "The following packages will be SUPERSEDED by a higher-priority channel:\n",
      "\n",
      "  altair                                        conda-forge --> pkgs/main\n",
      "  dill                 conda-forge::dill-0.3.4-pyhd8ed1ab_0 --> pkgs/main::dill-0.3.4-pyhd3eb1b0_0\n",
      "  fastprogress         conda-forge::fastprogress-1.0.0-py_0 --> pkgs/main::fastprogress-1.0.0-pyhb85f177_0\n",
      "  libgpuarray        conda-forge::libgpuarray-0.7.6-h0d85a~ --> pkgs/main::libgpuarray-0.7.6-hca72f7f_1\n",
      "  mako                 conda-forge::mako-1.1.4-pyh44b312d_0 --> pkgs/main::mako-1.1.4-pyhd3eb1b0_0\n",
      "  opt_einsum         conda-forge::opt_einsum-3.3.0-pyhd8ed~ --> pkgs/main::opt_einsum-3.3.0-pyhd3eb1b0_1\n",
      "  pygpu              conda-forge::pygpu-0.7.6-py38h8cc9b4f~ --> pkgs/main::pygpu-0.7.6-py38h67323c0_1\n",
      "  python-flatbuffers conda-forge::python-flatbuffers-2.0-p~ --> pkgs/main::python-flatbuffers-2.0-pyhd3eb1b0_0\n",
      "  tapi               conda-forge::tapi-1000.10.8-h879752b_4 --> pkgs/main::tapi-1000.10.8-ha1b3eb9_0\n",
      "  vega_datasets      conda-forge::vega_datasets-0.9.0-pyhd~ --> pkgs/main::vega_datasets-0.7.0-py_0\n",
      "\n",
      "The following packages will be DOWNGRADED:\n",
      "\n",
      "  backports.tempfile                               1.0-py_1 --> 1.0-pyhd3eb1b0_1\n",
      "  xmltodict                                     0.12.0-py_0 --> 0.12.0-pyhd3eb1b0_0\n",
      "\n",
      "\n",
      "\n",
      "Downloading and Extracting Packages\n",
      "xmltodict-0.12.0     | 13 KB     | ##################################### | 100% \n",
      "conda-build-3.21.8   | 554 KB    | ##################################### | 100% \n",
      "dill-0.3.4           | 61 KB     | ##################################### | 100% \n",
      "backports.tempfile-1 | 11 KB     | ##################################### | 100% \n",
      "navigator-updater-0. | 687 KB    | ##################################### | 100% \n",
      "absl-py-0.15.0       | 103 KB    | ##################################### | 100% \n",
      "libgpuarray-0.7.6    | 164 KB    | ##################################### | 100% \n",
      "cftime-1.5.1.1       | 177 KB    | ##################################### | 100% \n",
      "altair-4.1.0         | 484 KB    | ##################################### | 100% \n",
      "tapi-1000.10.8       | 4.2 MB    | ##################################### | 100% \n",
      "opt_einsum-3.3.0     | 57 KB     | ##################################### | 100% \n",
      "hdf4-4.2.13          | 682 KB    | ##################################### | 100% \n",
      "backports.functools_ | 9 KB      | ##################################### | 100% \n",
      "clangxx_osx-64-10.0. | 22 KB     | ##################################### | 100% \n",
      "pygpu-0.7.6          | 466 KB    | ##################################### | 100% \n",
      "conda-package-handli | 1.5 MB    | ##################################### | 100% \n",
      "mako-1.1.4           | 61 KB     | ##################################### | 100% \n",
      "xarray-0.20.1        | 563 KB    | ##################################### | 100% \n",
      "fastprogress-1.0.0   | 16 KB     | ##################################### | 100% \n",
      "vega_datasets-0.7.0  | 325 KB    | ##################################### | 100% \n",
      "python-flatbuffers-2 | 34 KB     | ##################################### | 100% \n",
      "Preparing transaction: done\n",
      "Verifying transaction: done\n",
      "Executing transaction: done\n",
      "\n",
      "Note: you may need to restart the kernel to use updated packages.\n"
     ]
    }
   ],
   "metadata": {}
  },
  {
   "cell_type": "code",
   "execution_count": 30,
   "source": [
    "conda install -c conda-forge gdal"
   ],
   "outputs": [
    {
     "output_type": "stream",
     "name": "stdout",
     "text": [
      "\n",
      "Note: you may need to restart the kernel to use updated packages.\n"
     ]
    }
   ],
   "metadata": {}
  },
  {
   "cell_type": "code",
   "execution_count": null,
   "source": [],
   "outputs": [],
   "metadata": {}
  }
 ],
 "metadata": {
  "orig_nbformat": 4,
  "language_info": {
   "name": "python",
   "version": "3.8.13",
   "mimetype": "text/x-python",
   "codemirror_mode": {
    "name": "ipython",
    "version": 3
   },
   "pygments_lexer": "ipython3",
   "nbconvert_exporter": "python",
   "file_extension": ".py"
  },
  "kernelspec": {
   "name": "python3",
   "display_name": "Python 3.8.13 64-bit ('base': conda)"
  },
  "interpreter": {
   "hash": "5b0e7be90a4a7c1a8aa0bc557e65693b87cf96cc2dcaea1d5cb62138bd238e79"
  }
 },
 "nbformat": 4,
 "nbformat_minor": 2
}