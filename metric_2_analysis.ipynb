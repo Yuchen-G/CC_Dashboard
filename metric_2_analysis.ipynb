{
 "cells": [
  {
   "cell_type": "code",
   "execution_count": 36,
   "source": [
    "pip install streamlit"
   ],
   "outputs": [
    {
     "output_type": "stream",
     "name": "stdout",
     "text": [
      "Collecting streamlit\n",
      "  Downloading streamlit-1.5.1-py2.py3-none-any.whl (9.7 MB)\n",
      "     |████████████████████████████████| 9.7 MB 2.6 MB/s            \n",
      "\u001b[?25hCollecting pydeck>=0.1.dev5\n",
      "  Downloading pydeck-0.7.1-py2.py3-none-any.whl (4.3 MB)\n",
      "     |████████████████████████████████| 4.3 MB 113.5 MB/s            \n",
      "\u001b[?25hRequirement already satisfied: numpy in /Users/narainyucel/opt/anaconda3/lib/python3.8/site-packages (from streamlit) (1.19.2)\n",
      "Requirement already satisfied: pillow>=6.2.0 in /Users/narainyucel/opt/anaconda3/lib/python3.8/site-packages (from streamlit) (8.0.1)\n",
      "Collecting blinker\n",
      "  Downloading blinker-1.4.tar.gz (111 kB)\n",
      "     |████████████████████████████████| 111 kB 116.7 MB/s            \n",
      "\u001b[?25h  Preparing metadata (setup.py) ... \u001b[?25ldone\n",
      "\u001b[?25hCollecting cachetools>=4.0\n",
      "  Downloading cachetools-5.0.0-py3-none-any.whl (9.1 kB)\n",
      "Requirement already satisfied: pandas>=0.21.0 in /Users/narainyucel/opt/anaconda3/lib/python3.8/site-packages (from streamlit) (1.1.3)\n",
      "Collecting tzlocal\n",
      "  Downloading tzlocal-4.1-py3-none-any.whl (19 kB)\n",
      "Requirement already satisfied: packaging in /Users/narainyucel/opt/anaconda3/lib/python3.8/site-packages (from streamlit) (20.4)\n",
      "Requirement already satisfied: requests in /Users/narainyucel/opt/anaconda3/lib/python3.8/site-packages (from streamlit) (2.24.0)\n",
      "Collecting pympler>=0.9\n",
      "  Downloading Pympler-1.0.1-py3-none-any.whl (164 kB)\n",
      "     |████████████████████████████████| 164 kB 45.4 MB/s            \n",
      "\u001b[?25hRequirement already satisfied: python-dateutil in /Users/narainyucel/opt/anaconda3/lib/python3.8/site-packages (from streamlit) (2.8.1)\n",
      "Collecting protobuf!=3.11,>=3.6.0\n",
      "  Downloading protobuf-3.19.4-cp38-cp38-macosx_10_9_x86_64.whl (961 kB)\n",
      "     |████████████████████████████████| 961 kB 78.3 MB/s            \n",
      "\u001b[?25hCollecting base58\n",
      "  Downloading base58-2.1.1-py3-none-any.whl (5.6 kB)\n",
      "Requirement already satisfied: attrs in /Users/narainyucel/opt/anaconda3/lib/python3.8/site-packages (from streamlit) (20.3.0)\n",
      "Collecting gitpython!=3.1.19\n",
      "  Downloading GitPython-3.1.26-py3-none-any.whl (180 kB)\n",
      "     |████████████████████████████████| 180 kB 47.2 MB/s            \n",
      "\u001b[?25hRequirement already satisfied: altair>=3.2.0 in /Users/narainyucel/opt/anaconda3/lib/python3.8/site-packages (from streamlit) (4.1.0)\n",
      "Collecting validators\n",
      "  Downloading validators-0.18.2-py3-none-any.whl (19 kB)\n",
      "Requirement already satisfied: toml in /Users/narainyucel/opt/anaconda3/lib/python3.8/site-packages (from streamlit) (0.10.1)\n",
      "Collecting astor\n",
      "  Downloading astor-0.8.1-py2.py3-none-any.whl (27 kB)\n",
      "Collecting pyarrow\n",
      "  Downloading pyarrow-7.0.0-cp38-cp38-macosx_10_13_x86_64.whl (20.2 MB)\n",
      "     |████████████████████████████████| 20.2 MB 20.8 MB/s            \n",
      "\u001b[?25hRequirement already satisfied: tornado>=5.0 in /Users/narainyucel/opt/anaconda3/lib/python3.8/site-packages (from streamlit) (6.0.4)\n",
      "Requirement already satisfied: click>=7.0 in /Users/narainyucel/opt/anaconda3/lib/python3.8/site-packages (from streamlit) (7.1.2)\n",
      "Requirement already satisfied: jinja2 in /Users/narainyucel/opt/anaconda3/lib/python3.8/site-packages (from altair>=3.2.0->streamlit) (2.11.2)\n",
      "Requirement already satisfied: entrypoints in /Users/narainyucel/opt/anaconda3/lib/python3.8/site-packages (from altair>=3.2.0->streamlit) (0.3)\n",
      "Requirement already satisfied: toolz in /Users/narainyucel/opt/anaconda3/lib/python3.8/site-packages (from altair>=3.2.0->streamlit) (0.11.1)\n",
      "Requirement already satisfied: jsonschema in /Users/narainyucel/opt/anaconda3/lib/python3.8/site-packages (from altair>=3.2.0->streamlit) (3.2.0)\n",
      "Collecting gitdb<5,>=4.0.1\n",
      "  Downloading gitdb-4.0.9-py3-none-any.whl (63 kB)\n",
      "     |████████████████████████████████| 63 kB 13.4 MB/s            \n",
      "\u001b[?25hRequirement already satisfied: pytz>=2017.2 in /Users/narainyucel/opt/anaconda3/lib/python3.8/site-packages (from pandas>=0.21.0->streamlit) (2020.1)\n",
      "Requirement already satisfied: ipykernel>=5.1.2 in /Users/narainyucel/opt/anaconda3/lib/python3.8/site-packages (from pydeck>=0.1.dev5->streamlit) (5.3.4)\n",
      "Requirement already satisfied: ipywidgets>=7.0.0 in /Users/narainyucel/opt/anaconda3/lib/python3.8/site-packages (from pydeck>=0.1.dev5->streamlit) (7.5.1)\n",
      "Requirement already satisfied: traitlets>=4.3.2 in /Users/narainyucel/opt/anaconda3/lib/python3.8/site-packages (from pydeck>=0.1.dev5->streamlit) (5.1.1)\n",
      "Requirement already satisfied: six>=1.5 in /Users/narainyucel/opt/anaconda3/lib/python3.8/site-packages (from python-dateutil->streamlit) (1.16.0)\n",
      "Requirement already satisfied: pyparsing>=2.0.2 in /Users/narainyucel/opt/anaconda3/lib/python3.8/site-packages (from packaging->streamlit) (2.4.7)\n",
      "Requirement already satisfied: certifi>=2017.4.17 in /Users/narainyucel/opt/anaconda3/lib/python3.8/site-packages (from requests->streamlit) (2020.6.20)\n",
      "Requirement already satisfied: chardet<4,>=3.0.2 in /Users/narainyucel/opt/anaconda3/lib/python3.8/site-packages (from requests->streamlit) (3.0.4)\n",
      "Requirement already satisfied: urllib3!=1.25.0,!=1.25.1,<1.26,>=1.21.1 in /Users/narainyucel/opt/anaconda3/lib/python3.8/site-packages (from requests->streamlit) (1.25.11)\n",
      "Requirement already satisfied: idna<3,>=2.5 in /Users/narainyucel/opt/anaconda3/lib/python3.8/site-packages (from requests->streamlit) (2.10)\n",
      "Collecting backports.zoneinfo\n",
      "  Downloading backports.zoneinfo-0.2.1-cp38-cp38-macosx_10_14_x86_64.whl (35 kB)\n",
      "Collecting pytz-deprecation-shim\n",
      "  Downloading pytz_deprecation_shim-0.1.0.post0-py2.py3-none-any.whl (15 kB)\n",
      "Requirement already satisfied: decorator>=3.4.0 in /Users/narainyucel/opt/anaconda3/lib/python3.8/site-packages (from validators->streamlit) (4.4.2)\n",
      "Collecting smmap<6,>=3.0.1\n",
      "  Downloading smmap-5.0.0-py3-none-any.whl (24 kB)\n",
      "Requirement already satisfied: appnope in /Users/narainyucel/opt/anaconda3/lib/python3.8/site-packages (from ipykernel>=5.1.2->pydeck>=0.1.dev5->streamlit) (0.1.0)\n",
      "Requirement already satisfied: jupyter-client in /Users/narainyucel/opt/anaconda3/lib/python3.8/site-packages (from ipykernel>=5.1.2->pydeck>=0.1.dev5->streamlit) (6.1.7)\n",
      "Requirement already satisfied: ipython>=5.0.0 in /Users/narainyucel/opt/anaconda3/lib/python3.8/site-packages (from ipykernel>=5.1.2->pydeck>=0.1.dev5->streamlit) (7.19.0)\n",
      "Requirement already satisfied: widgetsnbextension~=3.5.0 in /Users/narainyucel/opt/anaconda3/lib/python3.8/site-packages (from ipywidgets>=7.0.0->pydeck>=0.1.dev5->streamlit) (3.5.1)\n",
      "Requirement already satisfied: nbformat>=4.2.0 in /Users/narainyucel/opt/anaconda3/lib/python3.8/site-packages (from ipywidgets>=7.0.0->pydeck>=0.1.dev5->streamlit) (5.0.8)\n",
      "Requirement already satisfied: MarkupSafe>=0.23 in /Users/narainyucel/opt/anaconda3/lib/python3.8/site-packages (from jinja2->altair>=3.2.0->streamlit) (1.1.1)\n",
      "Requirement already satisfied: pyrsistent>=0.14.0 in /Users/narainyucel/opt/anaconda3/lib/python3.8/site-packages (from jsonschema->altair>=3.2.0->streamlit) (0.17.3)\n",
      "Requirement already satisfied: setuptools in /Users/narainyucel/opt/anaconda3/lib/python3.8/site-packages (from jsonschema->altair>=3.2.0->streamlit) (50.3.1.post20201107)\n",
      "Collecting tzdata\n",
      "  Downloading tzdata-2021.5-py2.py3-none-any.whl (339 kB)\n",
      "     |████████████████████████████████| 339 kB 130.1 MB/s            \n",
      "\u001b[?25hRequirement already satisfied: pickleshare in /Users/narainyucel/opt/anaconda3/lib/python3.8/site-packages (from ipython>=5.0.0->ipykernel>=5.1.2->pydeck>=0.1.dev5->streamlit) (0.7.5)\n",
      "Requirement already satisfied: backcall in /Users/narainyucel/opt/anaconda3/lib/python3.8/site-packages (from ipython>=5.0.0->ipykernel>=5.1.2->pydeck>=0.1.dev5->streamlit) (0.2.0)\n",
      "Requirement already satisfied: pygments in /Users/narainyucel/opt/anaconda3/lib/python3.8/site-packages (from ipython>=5.0.0->ipykernel>=5.1.2->pydeck>=0.1.dev5->streamlit) (2.7.2)\n",
      "Requirement already satisfied: prompt-toolkit!=3.0.0,!=3.0.1,<3.1.0,>=2.0.0 in /Users/narainyucel/opt/anaconda3/lib/python3.8/site-packages (from ipython>=5.0.0->ipykernel>=5.1.2->pydeck>=0.1.dev5->streamlit) (3.0.8)\n",
      "Requirement already satisfied: jedi>=0.10 in /Users/narainyucel/opt/anaconda3/lib/python3.8/site-packages (from ipython>=5.0.0->ipykernel>=5.1.2->pydeck>=0.1.dev5->streamlit) (0.17.1)\n",
      "Requirement already satisfied: pexpect>4.3 in /Users/narainyucel/opt/anaconda3/lib/python3.8/site-packages (from ipython>=5.0.0->ipykernel>=5.1.2->pydeck>=0.1.dev5->streamlit) (4.8.0)\n",
      "Requirement already satisfied: ipython-genutils in /Users/narainyucel/opt/anaconda3/lib/python3.8/site-packages (from nbformat>=4.2.0->ipywidgets>=7.0.0->pydeck>=0.1.dev5->streamlit) (0.2.0)\n",
      "Requirement already satisfied: jupyter-core in /Users/narainyucel/opt/anaconda3/lib/python3.8/site-packages (from nbformat>=4.2.0->ipywidgets>=7.0.0->pydeck>=0.1.dev5->streamlit) (4.6.3)\n",
      "Requirement already satisfied: notebook>=4.4.1 in /Users/narainyucel/opt/anaconda3/lib/python3.8/site-packages (from widgetsnbextension~=3.5.0->ipywidgets>=7.0.0->pydeck>=0.1.dev5->streamlit) (6.1.4)\n",
      "Requirement already satisfied: pyzmq>=13 in /Users/narainyucel/opt/anaconda3/lib/python3.8/site-packages (from jupyter-client->ipykernel>=5.1.2->pydeck>=0.1.dev5->streamlit) (19.0.2)\n",
      "Requirement already satisfied: parso<0.8.0,>=0.7.0 in /Users/narainyucel/opt/anaconda3/lib/python3.8/site-packages (from jedi>=0.10->ipython>=5.0.0->ipykernel>=5.1.2->pydeck>=0.1.dev5->streamlit) (0.7.0)\n",
      "Requirement already satisfied: nbconvert in /Users/narainyucel/opt/anaconda3/lib/python3.8/site-packages (from notebook>=4.4.1->widgetsnbextension~=3.5.0->ipywidgets>=7.0.0->pydeck>=0.1.dev5->streamlit) (6.0.7)\n",
      "Requirement already satisfied: prometheus-client in /Users/narainyucel/opt/anaconda3/lib/python3.8/site-packages (from notebook>=4.4.1->widgetsnbextension~=3.5.0->ipywidgets>=7.0.0->pydeck>=0.1.dev5->streamlit) (0.8.0)\n",
      "Requirement already satisfied: Send2Trash in /Users/narainyucel/opt/anaconda3/lib/python3.8/site-packages (from notebook>=4.4.1->widgetsnbextension~=3.5.0->ipywidgets>=7.0.0->pydeck>=0.1.dev5->streamlit) (1.5.0)\n",
      "Requirement already satisfied: argon2-cffi in /Users/narainyucel/opt/anaconda3/lib/python3.8/site-packages (from notebook>=4.4.1->widgetsnbextension~=3.5.0->ipywidgets>=7.0.0->pydeck>=0.1.dev5->streamlit) (20.1.0)\n",
      "Requirement already satisfied: terminado>=0.8.3 in /Users/narainyucel/opt/anaconda3/lib/python3.8/site-packages (from notebook>=4.4.1->widgetsnbextension~=3.5.0->ipywidgets>=7.0.0->pydeck>=0.1.dev5->streamlit) (0.9.1)\n",
      "Requirement already satisfied: ptyprocess>=0.5 in /Users/narainyucel/opt/anaconda3/lib/python3.8/site-packages (from pexpect>4.3->ipython>=5.0.0->ipykernel>=5.1.2->pydeck>=0.1.dev5->streamlit) (0.6.0)\n",
      "Requirement already satisfied: wcwidth in /Users/narainyucel/opt/anaconda3/lib/python3.8/site-packages (from prompt-toolkit!=3.0.0,!=3.0.1,<3.1.0,>=2.0.0->ipython>=5.0.0->ipykernel>=5.1.2->pydeck>=0.1.dev5->streamlit) (0.2.5)\n",
      "Requirement already satisfied: cffi>=1.0.0 in /Users/narainyucel/opt/anaconda3/lib/python3.8/site-packages (from argon2-cffi->notebook>=4.4.1->widgetsnbextension~=3.5.0->ipywidgets>=7.0.0->pydeck>=0.1.dev5->streamlit) (1.14.3)\n",
      "Requirement already satisfied: nbclient<0.6.0,>=0.5.0 in /Users/narainyucel/opt/anaconda3/lib/python3.8/site-packages (from nbconvert->notebook>=4.4.1->widgetsnbextension~=3.5.0->ipywidgets>=7.0.0->pydeck>=0.1.dev5->streamlit) (0.5.1)\n",
      "Requirement already satisfied: jupyterlab-pygments in /Users/narainyucel/opt/anaconda3/lib/python3.8/site-packages (from nbconvert->notebook>=4.4.1->widgetsnbextension~=3.5.0->ipywidgets>=7.0.0->pydeck>=0.1.dev5->streamlit) (0.1.2)\n",
      "Requirement already satisfied: bleach in /Users/narainyucel/opt/anaconda3/lib/python3.8/site-packages (from nbconvert->notebook>=4.4.1->widgetsnbextension~=3.5.0->ipywidgets>=7.0.0->pydeck>=0.1.dev5->streamlit) (3.2.1)\n",
      "Requirement already satisfied: defusedxml in /Users/narainyucel/opt/anaconda3/lib/python3.8/site-packages (from nbconvert->notebook>=4.4.1->widgetsnbextension~=3.5.0->ipywidgets>=7.0.0->pydeck>=0.1.dev5->streamlit) (0.6.0)\n",
      "Requirement already satisfied: mistune<2,>=0.8.1 in /Users/narainyucel/opt/anaconda3/lib/python3.8/site-packages (from nbconvert->notebook>=4.4.1->widgetsnbextension~=3.5.0->ipywidgets>=7.0.0->pydeck>=0.1.dev5->streamlit) (0.8.4)\n",
      "Requirement already satisfied: pandocfilters>=1.4.1 in /Users/narainyucel/opt/anaconda3/lib/python3.8/site-packages (from nbconvert->notebook>=4.4.1->widgetsnbextension~=3.5.0->ipywidgets>=7.0.0->pydeck>=0.1.dev5->streamlit) (1.4.3)\n",
      "Requirement already satisfied: testpath in /Users/narainyucel/opt/anaconda3/lib/python3.8/site-packages (from nbconvert->notebook>=4.4.1->widgetsnbextension~=3.5.0->ipywidgets>=7.0.0->pydeck>=0.1.dev5->streamlit) (0.4.4)\n",
      "Requirement already satisfied: pycparser in /Users/narainyucel/opt/anaconda3/lib/python3.8/site-packages (from cffi>=1.0.0->argon2-cffi->notebook>=4.4.1->widgetsnbextension~=3.5.0->ipywidgets>=7.0.0->pydeck>=0.1.dev5->streamlit) (2.20)\n",
      "Requirement already satisfied: nest-asyncio in /Users/narainyucel/opt/anaconda3/lib/python3.8/site-packages (from nbclient<0.6.0,>=0.5.0->nbconvert->notebook>=4.4.1->widgetsnbextension~=3.5.0->ipywidgets>=7.0.0->pydeck>=0.1.dev5->streamlit) (1.4.2)\n",
      "Requirement already satisfied: async-generator in /Users/narainyucel/opt/anaconda3/lib/python3.8/site-packages (from nbclient<0.6.0,>=0.5.0->nbconvert->notebook>=4.4.1->widgetsnbextension~=3.5.0->ipywidgets>=7.0.0->pydeck>=0.1.dev5->streamlit) (1.10)\n",
      "Requirement already satisfied: webencodings in /Users/narainyucel/opt/anaconda3/lib/python3.8/site-packages (from bleach->nbconvert->notebook>=4.4.1->widgetsnbextension~=3.5.0->ipywidgets>=7.0.0->pydeck>=0.1.dev5->streamlit) (0.5.1)\n",
      "Building wheels for collected packages: blinker\n",
      "  Building wheel for blinker (setup.py) ... \u001b[?25ldone\n",
      "\u001b[?25h  Created wheel for blinker: filename=blinker-1.4-py3-none-any.whl size=13452 sha256=2b090251f42bf975de9de1947d4c03c67f95b321bee300bb6f76b9a49f8d2daa\n",
      "  Stored in directory: /Users/narainyucel/Library/Caches/pip/wheels/b7/a5/68/fe632054a5eadd531c7a49d740c50eb6adfbeca822b4eab8d4\n",
      "Successfully built blinker\n",
      "Installing collected packages: tzdata, smmap, backports.zoneinfo, pytz-deprecation-shim, gitdb, validators, tzlocal, pympler, pydeck, pyarrow, protobuf, gitpython, cachetools, blinker, base58, astor, streamlit\n",
      "Successfully installed astor-0.8.1 backports.zoneinfo-0.2.1 base58-2.1.1 blinker-1.4 cachetools-5.0.0 gitdb-4.0.9 gitpython-3.1.26 protobuf-3.19.4 pyarrow-7.0.0 pydeck-0.7.1 pympler-1.0.1 pytz-deprecation-shim-0.1.0.post0 smmap-5.0.0 streamlit-1.5.1 tzdata-2021.5 tzlocal-4.1 validators-0.18.2\n",
      "\u001b[33mWARNING: You are using pip version 21.3.1; however, version 22.0.3 is available.\n",
      "You should consider upgrading via the '/Users/narainyucel/opt/anaconda3/bin/python -m pip install --upgrade pip' command.\u001b[0m\n",
      "Note: you may need to restart the kernel to use updated packages.\n"
     ]
    }
   ],
   "metadata": {}
  },
  {
   "cell_type": "code",
   "execution_count": 39,
   "source": [
    "import pandas as pd\n",
    "import numpy as np\n",
    "import matplotlib.pyplot as plt\n",
    "import seaborn as sns\n",
    "import streamlit as st"
   ],
   "outputs": [],
   "metadata": {}
  },
  {
   "cell_type": "code",
   "execution_count": 40,
   "source": [
    "df2 = pd.read_excel('mi_2021_oor_data.xlsx', sheet_name='Sheet1')\n",
    "df2 = df2[['COUNTY/METRO','Income needed to afford 1 bdrm FMR', 'Income needed to afford 2 bdrm FMR']]\n",
    "\n",
    "#Toggle data display\n",
    "if st.checkbox('Show raw data'):\n",
    "    st.subheader('Raw data')\n",
    "    st.write(df2)"
   ],
   "outputs": [
    {
     "output_type": "stream",
     "name": "stderr",
     "text": [
      "2022-02-14 13:24:05.118 \n",
      "  \u001b[33m\u001b[1mWarning:\u001b[0m to view this Streamlit app on a browser, run it with the following\n",
      "  command:\n",
      "\n",
      "    streamlit run /Users/narainyucel/opt/anaconda3/lib/python3.8/site-packages/ipykernel_launcher.py [ARGUMENTS]\n"
     ]
    }
   ],
   "metadata": {}
  },
  {
   "cell_type": "markdown",
   "source": [
    "#list of total counties\n",
    "total_county_list = [Ann Arbor MSA,\n",
    "Barry County HMFA,\n",
    "Battle Creek MSA,\n",
    "Bay City MSA,\n",
    "Cass County HMFA,\n",
    "Detroit-Warren-Livonia HMFA,\n",
    "Flint MSA,\n",
    "Grand Rapids-Wyoming HMFA,\n",
    "Holland-Grand Haven HMFA,\n",
    "Jackson MSA,\n",
    "Kalamazoo-Portage MSA,\n",
    "Lansing-East Lansing MSA,\n",
    "Livingston County HMFA,\n",
    "Midland MSA,\n",
    "Monroe MSA,\n",
    "Montcalm County HMFA,\n",
    "Muskegon MSA,\n",
    "Niles-Benton Harbor MSA,\n",
    "Saginaw MSA,\n",
    "Alcona County,\n",
    "Alger County,\n",
    "Allegan County,\n",
    "Alpena County,\n",
    "Antrim County,\n",
    "Arenac County,\n",
    "Baraga County,\n",
    "Barry County,\n",
    "Bay County,\n",
    "Benzie County,\n",
    "Berrien County,\n",
    "Branch County,\n",
    "Calhoun County,\n",
    "Cass County,\n",
    "Charlevoix County,\n",
    "Cheboygan County,\n",
    "Chippewa County,\n",
    "Clare County,\n",
    "Clinton County,\n",
    "Crawford County,\n",
    "Delta County,\n",
    "Dickinson County,\n",
    "Eaton County,\n",
    "Emmet County,\n",
    "Genesee County,\n",
    "Gladwin County,\n",
    "Gogebic County,\n",
    "Grand Traverse County,\n",
    "Gratiot County,\n",
    "Hillsdale County,\n",
    "Houghton County,\n",
    "Huron County,\n",
    "Ingham County,\n",
    "Ionia County,\n",
    "Iosco County,\n",
    "Iron County,\n",
    "Isabella County,\n",
    "Jackson County,\n",
    "Kalamazoo County,\n",
    "Kalkaska County,\n",
    "Kent County,\n",
    "Keweenaw County †,\n",
    "Lake County,\n",
    "Lapeer County,\n",
    "Leelanau County,\n",
    "Lenawee County,\n",
    "Livingston County,\n",
    "Luce County,\n",
    "Mackinac County,\n",
    "Macomb County,\n",
    "Manistee County,\n",
    "Marquette County,\n",
    "Mason County,\n",
    "Mecosta County,\n",
    "Menominee County,\n",
    "Midland County,\n",
    "Missaukee County,\n",
    "Monroe County,\n",
    "Montcalm County,\n",
    "Montmorency County,\n",
    "Muskegon County,\n",
    "Newaygo County,\n",
    "Oakland County,\n",
    "Oceana County,\n",
    "Ogemaw County,\n",
    "Ontonagon County,\n",
    "Osceola County,\n",
    "Oscoda County,\n",
    "Otsego County,\n",
    "Ottawa County,\n",
    "Presque Isle County,\n",
    "Roscommon County,\n",
    "Saginaw County,\n",
    "St. Clair County,\n",
    "St. Joseph County,\n",
    "Sanilac County,\n",
    "Schoolcraft County,\n",
    "Shiawassee County,\n",
    "Tuscola County,\n",
    "Van Buren County,\n",
    "Washtenaw County,\n",
    "Wayne County,\n",
    "Wexford County]"
   ],
   "metadata": {}
  },
  {
   "cell_type": "code",
   "execution_count": 34,
   "source": [
    "#county_option = st.selectbox(\"Select county\", (\"Macomb\", \"Oakland\", \"Wayne\"))"
   ],
   "outputs": [],
   "metadata": {}
  },
  {
   "cell_type": "code",
   "execution_count": 19,
   "source": [
    "our_counties = ['Wayne County', 'Macomb County', 'Oakland County']"
   ],
   "outputs": [],
   "metadata": {}
  },
  {
   "cell_type": "code",
   "execution_count": 1,
   "source": [
    "df2 = df2[df2['COUNTY/METRO'].isin(our_counties)]"
   ],
   "outputs": [
    {
     "output_type": "error",
     "ename": "NameError",
     "evalue": "name 'df2' is not defined",
     "traceback": [
      "\u001b[0;31m---------------------------------------------------------------------------\u001b[0m",
      "\u001b[0;31mNameError\u001b[0m                                 Traceback (most recent call last)",
      "\u001b[0;32m<ipython-input-1-50677cef5d04>\u001b[0m in \u001b[0;36m<module>\u001b[0;34m\u001b[0m\n\u001b[0;32m----> 1\u001b[0;31m \u001b[0mdf2\u001b[0m \u001b[0;34m=\u001b[0m \u001b[0mdf2\u001b[0m\u001b[0;34m[\u001b[0m\u001b[0mdf2\u001b[0m\u001b[0;34m[\u001b[0m\u001b[0;34m'COUNTY/METRO'\u001b[0m\u001b[0;34m]\u001b[0m\u001b[0;34m.\u001b[0m\u001b[0misin\u001b[0m\u001b[0;34m(\u001b[0m\u001b[0mour_counties\u001b[0m\u001b[0;34m)\u001b[0m\u001b[0;34m]\u001b[0m\u001b[0;34m\u001b[0m\u001b[0;34m\u001b[0m\u001b[0m\n\u001b[0m",
      "\u001b[0;31mNameError\u001b[0m: name 'df2' is not defined"
     ]
    }
   ],
   "metadata": {}
  },
  {
   "cell_type": "code",
   "execution_count": 21,
   "source": [
    "df2.head()"
   ],
   "outputs": [
    {
     "output_type": "execute_result",
     "data": {
      "text/html": [
       "<div>\n",
       "<style scoped>\n",
       "    .dataframe tbody tr th:only-of-type {\n",
       "        vertical-align: middle;\n",
       "    }\n",
       "\n",
       "    .dataframe tbody tr th {\n",
       "        vertical-align: top;\n",
       "    }\n",
       "\n",
       "    .dataframe thead th {\n",
       "        text-align: right;\n",
       "    }\n",
       "</style>\n",
       "<table border=\"1\" class=\"dataframe\">\n",
       "  <thead>\n",
       "    <tr style=\"text-align: right;\">\n",
       "      <th></th>\n",
       "      <th>COUNTY/METRO</th>\n",
       "      <th>Income needed to afford 1 bdrm FMR</th>\n",
       "      <th>Income needed to afford 2 bdrm FMR</th>\n",
       "    </tr>\n",
       "  </thead>\n",
       "  <tbody>\n",
       "    <tr>\n",
       "      <th>70</th>\n",
       "      <td>Macomb County</td>\n",
       "      <td>32840.0</td>\n",
       "      <td>41960.0</td>\n",
       "    </tr>\n",
       "    <tr>\n",
       "      <th>83</th>\n",
       "      <td>Oakland County</td>\n",
       "      <td>32840.0</td>\n",
       "      <td>41960.0</td>\n",
       "    </tr>\n",
       "    <tr>\n",
       "      <th>102</th>\n",
       "      <td>Wayne County</td>\n",
       "      <td>32840.0</td>\n",
       "      <td>41960.0</td>\n",
       "    </tr>\n",
       "  </tbody>\n",
       "</table>\n",
       "</div>"
      ],
      "text/plain": [
       "       COUNTY/METRO  Income needed to afford 1 bdrm FMR  \\\n",
       "70    Macomb County                             32840.0   \n",
       "83   Oakland County                             32840.0   \n",
       "102    Wayne County                             32840.0   \n",
       "\n",
       "     Income needed to afford 2 bdrm FMR  \n",
       "70                              41960.0  \n",
       "83                              41960.0  \n",
       "102                             41960.0  "
      ]
     },
     "metadata": {},
     "execution_count": 21
    }
   ],
   "metadata": {}
  },
  {
   "cell_type": "code",
   "execution_count": 22,
   "source": [
    "df2 = pd.melt(df2, id_vars=['COUNTY/METRO'])"
   ],
   "outputs": [],
   "metadata": {}
  },
  {
   "cell_type": "code",
   "execution_count": 23,
   "source": [
    "df2"
   ],
   "outputs": [
    {
     "output_type": "execute_result",
     "data": {
      "text/html": [
       "<div>\n",
       "<style scoped>\n",
       "    .dataframe tbody tr th:only-of-type {\n",
       "        vertical-align: middle;\n",
       "    }\n",
       "\n",
       "    .dataframe tbody tr th {\n",
       "        vertical-align: top;\n",
       "    }\n",
       "\n",
       "    .dataframe thead th {\n",
       "        text-align: right;\n",
       "    }\n",
       "</style>\n",
       "<table border=\"1\" class=\"dataframe\">\n",
       "  <thead>\n",
       "    <tr style=\"text-align: right;\">\n",
       "      <th></th>\n",
       "      <th>COUNTY/METRO</th>\n",
       "      <th>variable</th>\n",
       "      <th>value</th>\n",
       "    </tr>\n",
       "  </thead>\n",
       "  <tbody>\n",
       "    <tr>\n",
       "      <th>0</th>\n",
       "      <td>Macomb County</td>\n",
       "      <td>Income needed to afford 1 bdrm FMR</td>\n",
       "      <td>32840.0</td>\n",
       "    </tr>\n",
       "    <tr>\n",
       "      <th>1</th>\n",
       "      <td>Oakland County</td>\n",
       "      <td>Income needed to afford 1 bdrm FMR</td>\n",
       "      <td>32840.0</td>\n",
       "    </tr>\n",
       "    <tr>\n",
       "      <th>2</th>\n",
       "      <td>Wayne County</td>\n",
       "      <td>Income needed to afford 1 bdrm FMR</td>\n",
       "      <td>32840.0</td>\n",
       "    </tr>\n",
       "    <tr>\n",
       "      <th>3</th>\n",
       "      <td>Macomb County</td>\n",
       "      <td>Income needed to afford 2 bdrm FMR</td>\n",
       "      <td>41960.0</td>\n",
       "    </tr>\n",
       "    <tr>\n",
       "      <th>4</th>\n",
       "      <td>Oakland County</td>\n",
       "      <td>Income needed to afford 2 bdrm FMR</td>\n",
       "      <td>41960.0</td>\n",
       "    </tr>\n",
       "    <tr>\n",
       "      <th>5</th>\n",
       "      <td>Wayne County</td>\n",
       "      <td>Income needed to afford 2 bdrm FMR</td>\n",
       "      <td>41960.0</td>\n",
       "    </tr>\n",
       "  </tbody>\n",
       "</table>\n",
       "</div>"
      ],
      "text/plain": [
       "     COUNTY/METRO                            variable    value\n",
       "0   Macomb County  Income needed to afford 1 bdrm FMR  32840.0\n",
       "1  Oakland County  Income needed to afford 1 bdrm FMR  32840.0\n",
       "2    Wayne County  Income needed to afford 1 bdrm FMR  32840.0\n",
       "3   Macomb County  Income needed to afford 2 bdrm FMR  41960.0\n",
       "4  Oakland County  Income needed to afford 2 bdrm FMR  41960.0\n",
       "5    Wayne County  Income needed to afford 2 bdrm FMR  41960.0"
      ]
     },
     "metadata": {},
     "execution_count": 23
    }
   ],
   "metadata": {}
  },
  {
   "cell_type": "markdown",
   "source": [
    "Multiply renter median household income by .3 to get maximum amount that can be spent on housing for it to be affordable ($43,346 x .3 = $13,004). Divide by 12 to obtain monthly amount ($13,004 / 12 = $1,084)."
   ],
   "metadata": {}
  },
  {
   "cell_type": "code",
   "execution_count": 28,
   "source": [
    "#Find median household income, look at oakland county examples - try and create dropdown so you can add counties to compare\n",
    "g = sns.catplot(data=df2, kind='bar',\n",
    "x='COUNTY/METRO', y='value', hue='variable', palette='dark', alpha=.6, height=6)\n",
    "g.despine(left=True)\n",
    "g.set_axis_labels(\"Counties\", \"Annual Income to afford Fair Market Rent\")\n",
    "g.legend.set_title(\"\")"
   ],
   "outputs": [
    {
     "output_type": "display_data",
     "data": {
      "image/png": "[encoded data removed]",
      "text/plain": [
       "<Figure size 654.25x432 with 1 Axes>"
      ]
     },
     "metadata": {
      "needs_background": "light"
     }
    }
   ],
   "metadata": {}
  },
  {
   "cell_type": "markdown",
   "source": [
    "A renter household needs an annual income of $51,789 to afford a two-bedroom rental home at the Fair Market Rent.\n",
    "Multiply the FMR for a unit of a particular size by 12 to get the yearly rental cost (2BR: $1,294.73 x 12 = $15,537).  Then divide by .3 to determine the total income needed to afford $15,537 per year in rent ($115,537 / .3 = $51,789).\n",
    "\n",
    "\n",
    "\n"
   ],
   "metadata": {}
  },
  {
   "cell_type": "markdown",
   "source": [],
   "metadata": {}
  }
 ],
 "metadata": {
  "language_info": {
   "name": "python",
   "version": "3.8.5",
   "mimetype": "text/x-python",
   "codemirror_mode": {
    "name": "ipython",
    "version": 3
   },
   "pygments_lexer": "ipython3",
   "nbconvert_exporter": "python",
   "file_extension": ".py"
  },
  "kernelspec": {
   "name": "python3",
   "display_name": "Python 3.8.5 64-bit ('base': conda)"
  },
  "interpreter": {
   "hash": "5b0e7be90a4a7c1a8aa0bc557e65693b87cf96cc2dcaea1d5cb62138bd238e79"
  }
 },
 "nbformat": 4,
 "nbformat_minor": 4
}