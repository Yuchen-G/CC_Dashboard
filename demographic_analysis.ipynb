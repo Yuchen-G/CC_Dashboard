{
 "cells": [
  {
   "cell_type": "markdown",
   "source": [
    "## Demographic Analysis"
   ],
   "metadata": {}
  },
  {
   "cell_type": "markdown",
   "source": [
    "## Datasets"
   ],
   "metadata": {}
  },
  {
   "cell_type": "markdown",
   "source": [
    "## Dataset and documentation: \n",
    "https://api.census.gov/data/2020/dec/pl.html\n",
    "https://www.youtube.com/watch?v=vv4MZgqgHe8"
   ],
   "metadata": {}
  },
  {
   "cell_type": "code",
   "execution_count": 109,
   "source": [
    "RACE_POP_COUNT = 'RacePopCount.json'\n",
    "ETHNIC_COUNT = 'EthnicPopCount.json'\n",
    "datasets_and_uris = {}\n",
    "datasets_and_uris[RACE_POP_COUNT] = \"http://api.census.gov/data/2020/dec/pl\"\n",
    "datasets_and_uris[ETHNIC_COUNT] = \"http://api.census.gov/data/2020/dec/pl\"\n",
    "\n",
    "#ASSETS_PATH = 'RacePopCount'"
   ],
   "outputs": [],
   "metadata": {}
  },
  {
   "cell_type": "markdown",
   "source": [
    "### Required Packages"
   ],
   "metadata": {}
  },
  {
   "cell_type": "code",
   "execution_count": 57,
   "source": [
    "from collections import Counter\n",
    "import numpy as np\n",
    "import pandas as pd\n",
    "import altair as alt\n",
    "from altair import datum\n",
    "import json\n",
    "import requests\n",
    "import random\n",
    "import time\n",
    "import re\n",
    "import requests\n",
    "import os\n",
    "import warnings\n",
    "warnings.simplefilter(action=\"ignore\", category=FutureWarning)\n"
   ],
   "outputs": [],
   "metadata": {}
  },
  {
   "cell_type": "markdown",
   "source": [
    "## Downloading Required Data"
   ],
   "metadata": {}
  },
  {
   "cell_type": "code",
   "execution_count": 120,
   "source": [
    "def createPredicatesRaceandEthnicityPopCount(tableId, var_cnt):\n",
    "  '''\n",
    "  create predicates for the census data API\n",
    "  base_uri - This is the base uri for the census API\n",
    "  tableId - table name, which we want to download\n",
    "  var_cnt - Number of variables the table has \n",
    "  '''\n",
    "  county = \"*\" #\"099,163,125\" - These are for Macomb, Wayne, Oakland specifically\n",
    "  state= \"26\"\n",
    "  estimate = []\n",
    "  #moe = []\n",
    "  for i in range(1, var_cnt+1):\n",
    "    estimate.append(tableId + '_00' + str(i) + 'N')\n",
    "    #moe.append(tableId + '_00' + str(i) + 'M')\n",
    "\n",
    "  get_vars = estimate + ['NAME'] #+ moe\n",
    "  predicates = {}\n",
    "  predicates[\"get\"] = ','.join(get_vars)\n",
    "  predicates[\"for\"] = \"county:\" + county\n",
    "  predicates[\"in\"] = \"state:\" + state\n",
    "  \n",
    "  return(predicates)\n",
    "\n",
    "#def createPredicatesAge(county, token):\n",
    "  #  '''\n",
    "  #create predicates/headers for the CHAS data API\n",
    "  #  county - County id for which we want to download the cost burden\n",
    "  #  token - API token to access the CHAS API, CHN needs to register for CHAS API and get this token \n",
    "   # '''\n",
    "    #predicates = {}\n",
    "    #predicates['type'] = 3\n",
    "    #predicates['stateId'] = 26\n",
    "    ##predicates['entityId'] = county\n",
    "    #auth_token_string = \"Bearer \"+ token\n",
    "    #headers = {\"Authorization\": auth_token_string}\n",
    "    #return(predicates, headers)\n",
    "\n",
    "\n",
    "def download_data(base_uri,predicates, path, filename, headers=''):\n",
    "    filepath = path + filename\n",
    "    if os.path.isfile(filepath):\n",
    "        print(filepath)\n",
    "        print('file already exists, clearing and updating')\n",
    "        open(filepath, 'w').close()\n",
    "    #else:\n",
    "        result = requests.get(base_uri, params=predicates, headers=headers) \n",
    "        if result.status_code == 200:\n",
    "          with open(filepath, 'wb') as f:\n",
    "              f.write(result.content)\n",
    "        else:\n",
    "          print('API returned Erro: ', result.status_code, '\\n', 'Downloading of data failed.',  \\\n",
    "                'Please check the API')\n",
    "    else: \n",
    "        result = requests.get(base_uri, params=predicates, headers=headers) \n",
    "        if result.status_code == 200:\n",
    "          with open(filepath, 'wb') as f:\n",
    "              f.write(result.content)\n",
    "        else:\n",
    "          print('API returned Erro: ', result.status_code, '\\n', 'Downloading of data failed.',  \\\n",
    "                'Please check the API')"
   ],
   "outputs": [],
   "metadata": {}
  },
  {
   "cell_type": "code",
   "execution_count": 121,
   "source": [
    "#Download Race Population Counts\n",
    "tableId = 'P1'\n",
    "var_cnt = 9\n",
    "predicates = createPredicatesRaceandEthnicityPopCount(tableId, var_cnt)\n",
    "ASSETS_PATH = ''\n",
    "download_data(datasets_and_uris[RACE_POP_COUNT],predicates, ASSETS_PATH, RACE_POP_COUNT)"
   ],
   "outputs": [
    {
     "output_type": "stream",
     "name": "stdout",
     "text": [
      "RacePopCount.json\n",
      "file already exists, clearing and updating\n"
     ]
    }
   ],
   "metadata": {}
  },
  {
   "cell_type": "code",
   "execution_count": 122,
   "source": [
    "#Download Ethnicity Counts Data\n",
    "#Total Population Count; Hispanic or Latino of any race (Population Count); Non-Hispanic/Non-Latino (Population Count)\n",
    "tableId = 'P2'\n",
    "var_cnt = 3\n",
    "predicates = createPredicatesRaceandEthnicityPopCount(tableId, var_cnt)\n",
    "ASSETS_PATH = ''\n",
    "download_data(datasets_and_uris[ETHNIC_COUNT],predicates, ASSETS_PATH, ETHNIC_COUNT)\n"
   ],
   "outputs": [
    {
     "output_type": "stream",
     "name": "stdout",
     "text": [
      "EthnicPopCount.json\n",
      "file already exists, clearing and updating\n"
     ]
    }
   ],
   "metadata": {}
  },
  {
   "cell_type": "markdown",
   "source": [
    "## Data Transformations - One Race Population Count and Two or More Races Total Population Count"
   ],
   "metadata": {}
  },
  {
   "cell_type": "code",
   "execution_count": 123,
   "source": [
    "race_pop_count_df = pd.read_json('RacePopCount.json')\n",
    "race_pop_count_df.rename(columns={0:'total', 1:'one_tot',2:'one_wht', 3:'one_blk',\n",
    "4:'one_ind', 5:'one_asn', 6:'one_pacific', 7:'one_other', 8:'two__more_total', 9:'NAME', 10:'state', 11:'county'}, inplace=True)\n",
    "race_pop_count_df = race_pop_count_df.iloc[1:, :]\n",
    "race_pop_count_df['NAME'] = race_pop_count_df['NAME'].str.split(',', expand=True).iloc[:, 0]\n",
    "race_pop_count_df.drop(columns=['state', 'county'], inplace=True)"
   ],
   "outputs": [],
   "metadata": {}
  },
  {
   "cell_type": "code",
   "execution_count": 124,
   "source": [
    "race_pop_count_df.head()"
   ],
   "outputs": [
    {
     "output_type": "execute_result",
     "data": {
      "text/html": [
       "<div>\n",
       "<style scoped>\n",
       "    .dataframe tbody tr th:only-of-type {\n",
       "        vertical-align: middle;\n",
       "    }\n",
       "\n",
       "    .dataframe tbody tr th {\n",
       "        vertical-align: top;\n",
       "    }\n",
       "\n",
       "    .dataframe thead th {\n",
       "        text-align: right;\n",
       "    }\n",
       "</style>\n",
       "<table border=\"1\" class=\"dataframe\">\n",
       "  <thead>\n",
       "    <tr style=\"text-align: right;\">\n",
       "      <th></th>\n",
       "      <th>total</th>\n",
       "      <th>one_tot</th>\n",
       "      <th>one_wht</th>\n",
       "      <th>one_blk</th>\n",
       "      <th>one_ind</th>\n",
       "      <th>one_asn</th>\n",
       "      <th>one_pacific</th>\n",
       "      <th>one_other</th>\n",
       "      <th>two__more_total</th>\n",
       "      <th>NAME</th>\n",
       "    </tr>\n",
       "  </thead>\n",
       "  <tbody>\n",
       "    <tr>\n",
       "      <th>1</th>\n",
       "      <td>10167</td>\n",
       "      <td>9785</td>\n",
       "      <td>9644</td>\n",
       "      <td>23</td>\n",
       "      <td>61</td>\n",
       "      <td>14</td>\n",
       "      <td>1</td>\n",
       "      <td>42</td>\n",
       "      <td>382</td>\n",
       "      <td>Alcona County</td>\n",
       "    </tr>\n",
       "    <tr>\n",
       "      <th>2</th>\n",
       "      <td>8842</td>\n",
       "      <td>8351</td>\n",
       "      <td>7363</td>\n",
       "      <td>587</td>\n",
       "      <td>328</td>\n",
       "      <td>26</td>\n",
       "      <td>1</td>\n",
       "      <td>46</td>\n",
       "      <td>491</td>\n",
       "      <td>Alger County</td>\n",
       "    </tr>\n",
       "    <tr>\n",
       "      <th>3</th>\n",
       "      <td>120502</td>\n",
       "      <td>112970</td>\n",
       "      <td>105564</td>\n",
       "      <td>1584</td>\n",
       "      <td>799</td>\n",
       "      <td>874</td>\n",
       "      <td>22</td>\n",
       "      <td>4127</td>\n",
       "      <td>7532</td>\n",
       "      <td>Allegan County</td>\n",
       "    </tr>\n",
       "    <tr>\n",
       "      <th>4</th>\n",
       "      <td>28907</td>\n",
       "      <td>27656</td>\n",
       "      <td>27177</td>\n",
       "      <td>99</td>\n",
       "      <td>122</td>\n",
       "      <td>119</td>\n",
       "      <td>12</td>\n",
       "      <td>127</td>\n",
       "      <td>1251</td>\n",
       "      <td>Alpena County</td>\n",
       "    </tr>\n",
       "    <tr>\n",
       "      <th>5</th>\n",
       "      <td>23431</td>\n",
       "      <td>22372</td>\n",
       "      <td>21902</td>\n",
       "      <td>39</td>\n",
       "      <td>201</td>\n",
       "      <td>72</td>\n",
       "      <td>20</td>\n",
       "      <td>138</td>\n",
       "      <td>1059</td>\n",
       "      <td>Antrim County</td>\n",
       "    </tr>\n",
       "  </tbody>\n",
       "</table>\n",
       "</div>"
      ],
      "text/plain": [
       "    total one_tot one_wht one_blk one_ind one_asn one_pacific one_other  \\\n",
       "1   10167    9785    9644      23      61      14           1        42   \n",
       "2    8842    8351    7363     587     328      26           1        46   \n",
       "3  120502  112970  105564    1584     799     874          22      4127   \n",
       "4   28907   27656   27177      99     122     119          12       127   \n",
       "5   23431   22372   21902      39     201      72          20       138   \n",
       "\n",
       "  two__more_total            NAME  \n",
       "1             382   Alcona County  \n",
       "2             491    Alger County  \n",
       "3            7532  Allegan County  \n",
       "4            1251   Alpena County  \n",
       "5            1059   Antrim County  "
      ]
     },
     "metadata": {},
     "execution_count": 124
    }
   ],
   "metadata": {}
  },
  {
   "cell_type": "markdown",
   "source": [
    "## Data Transformations - Ethnic Population Count Hispanic and Non-Hispanic"
   ],
   "metadata": {}
  },
  {
   "cell_type": "code",
   "execution_count": 125,
   "source": [
    "ethnic_pop_count_df = pd.read_json('EthnicPopCount.json')"
   ],
   "outputs": [],
   "metadata": {}
  },
  {
   "cell_type": "code",
   "execution_count": 126,
   "source": [
    "ethnic_pop_count_df.head()"
   ],
   "outputs": [
    {
     "output_type": "execute_result",
     "data": {
      "text/html": [
       "<div>\n",
       "<style scoped>\n",
       "    .dataframe tbody tr th:only-of-type {\n",
       "        vertical-align: middle;\n",
       "    }\n",
       "\n",
       "    .dataframe tbody tr th {\n",
       "        vertical-align: top;\n",
       "    }\n",
       "\n",
       "    .dataframe thead th {\n",
       "        text-align: right;\n",
       "    }\n",
       "</style>\n",
       "<table border=\"1\" class=\"dataframe\">\n",
       "  <thead>\n",
       "    <tr style=\"text-align: right;\">\n",
       "      <th></th>\n",
       "      <th>0</th>\n",
       "      <th>1</th>\n",
       "      <th>2</th>\n",
       "      <th>3</th>\n",
       "      <th>4</th>\n",
       "      <th>5</th>\n",
       "    </tr>\n",
       "  </thead>\n",
       "  <tbody>\n",
       "    <tr>\n",
       "      <th>0</th>\n",
       "      <td>P2_001N</td>\n",
       "      <td>P2_002N</td>\n",
       "      <td>P2_003N</td>\n",
       "      <td>NAME</td>\n",
       "      <td>state</td>\n",
       "      <td>county</td>\n",
       "    </tr>\n",
       "    <tr>\n",
       "      <th>1</th>\n",
       "      <td>10167</td>\n",
       "      <td>122</td>\n",
       "      <td>10045</td>\n",
       "      <td>Alcona County, Michigan</td>\n",
       "      <td>26</td>\n",
       "      <td>001</td>\n",
       "    </tr>\n",
       "    <tr>\n",
       "      <th>2</th>\n",
       "      <td>8842</td>\n",
       "      <td>115</td>\n",
       "      <td>8727</td>\n",
       "      <td>Alger County, Michigan</td>\n",
       "      <td>26</td>\n",
       "      <td>003</td>\n",
       "    </tr>\n",
       "    <tr>\n",
       "      <th>3</th>\n",
       "      <td>120502</td>\n",
       "      <td>9389</td>\n",
       "      <td>111113</td>\n",
       "      <td>Allegan County, Michigan</td>\n",
       "      <td>26</td>\n",
       "      <td>005</td>\n",
       "    </tr>\n",
       "    <tr>\n",
       "      <th>4</th>\n",
       "      <td>28907</td>\n",
       "      <td>417</td>\n",
       "      <td>28490</td>\n",
       "      <td>Alpena County, Michigan</td>\n",
       "      <td>26</td>\n",
       "      <td>007</td>\n",
       "    </tr>\n",
       "  </tbody>\n",
       "</table>\n",
       "</div>"
      ],
      "text/plain": [
       "         0        1        2                         3      4       5\n",
       "0  P2_001N  P2_002N  P2_003N                      NAME  state  county\n",
       "1    10167      122    10045   Alcona County, Michigan     26     001\n",
       "2     8842      115     8727    Alger County, Michigan     26     003\n",
       "3   120502     9389   111113  Allegan County, Michigan     26     005\n",
       "4    28907      417    28490   Alpena County, Michigan     26     007"
      ]
     },
     "metadata": {},
     "execution_count": 126
    }
   ],
   "metadata": {}
  },
  {
   "cell_type": "code",
   "execution_count": null,
   "source": [],
   "outputs": [],
   "metadata": {}
  }
 ],
 "metadata": {
  "orig_nbformat": 4,
  "language_info": {
   "name": "python",
   "version": "3.8.5",
   "mimetype": "text/x-python",
   "codemirror_mode": {
    "name": "ipython",
    "version": 3
   },
   "pygments_lexer": "ipython3",
   "nbconvert_exporter": "python",
   "file_extension": ".py"
  },
  "kernelspec": {
   "name": "python3",
   "display_name": "Python 3.8.5 64-bit ('base': conda)"
  },
  "interpreter": {
   "hash": "5b0e7be90a4a7c1a8aa0bc557e65693b87cf96cc2dcaea1d5cb62138bd238e79"
  }
 },
 "nbformat": 4,
 "nbformat_minor": 2
}