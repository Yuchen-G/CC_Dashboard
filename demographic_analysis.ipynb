{
 "cells": [
  {
   "cell_type": "markdown",
   "source": [
    "# Demographic Analysis"
   ],
   "metadata": {}
  },
  {
   "cell_type": "markdown",
   "source": [
    "## Datasets"
   ],
   "metadata": {}
  },
  {
   "cell_type": "markdown",
   "source": [
    "## Dataset and documentation: \n",
    "### Decennial Census\n",
    "https://api.census.gov/data/2020/dec/pl.html\n",
    "https://www.youtube.com/watch?v=vv4MZgqgHe8\n",
    "### ACS Survey (Age)"
   ],
   "metadata": {}
  },
  {
   "cell_type": "code",
   "execution_count": 93,
   "source": [
    "RACE_POP_COUNT = 'RacePopCount.json'\n",
    "ETHNIC_COUNT = 'EthnicPopCount.json'\n",
    "AGE_COUNT = 'AgePopCount.json'\n",
    "datasets_and_uris = {}\n",
    "datasets_and_uris[RACE_POP_COUNT] = \"http://api.census.gov/data/2020/dec/pl\"\n",
    "datasets_and_uris[ETHNIC_COUNT] = \"http://api.census.gov/data/2020/dec/pl\""
   ],
   "outputs": [],
   "metadata": {}
  },
  {
   "cell_type": "markdown",
   "source": [
    "### Required Packages"
   ],
   "metadata": {}
  },
  {
   "cell_type": "code",
   "execution_count": 94,
   "source": [
    "from collections import Counter\n",
    "import matplotlib.pyplot as plt\n",
    "import seaborn as sns\n",
    "import numpy as np\n",
    "import pandas as pd\n",
    "import altair as alt\n",
    "from altair import datum\n",
    "import json\n",
    "import requests\n",
    "import random\n",
    "import time\n",
    "import re\n",
    "import requests\n",
    "import os\n",
    "import warnings\n",
    "warnings.simplefilter(action=\"ignore\", category=FutureWarning)\n"
   ],
   "outputs": [],
   "metadata": {}
  },
  {
   "cell_type": "markdown",
   "source": [
    "## Downloading Required Data"
   ],
   "metadata": {}
  },
  {
   "cell_type": "code",
   "execution_count": 95,
   "source": [
    "def createPredicatesRaceandEthnicityPopCount(tableId, var_cnt):\n",
    "  '''\n",
    "  create predicates for the census data API\n",
    "  base_uri - This is the base uri for the census API\n",
    "  tableId - table name, which we want to download\n",
    "  var_cnt - Number of variables the table has \n",
    "  '''\n",
    "  county = \"*\" #\"099,163,125\" - These are for Macomb, Wayne, Oakland specifically\n",
    "  state= \"26\"\n",
    "  estimate = []\n",
    "  #moe = []\n",
    "  for i in range(1, var_cnt+1):\n",
    "    estimate.append(tableId + '_00' + str(i) + 'N')\n",
    "    #moe.append(tableId + '_00' + str(i) + 'M')\n",
    "\n",
    "  get_vars = estimate + ['NAME'] #+ moe\n",
    "  predicates = {}\n",
    "  predicates[\"get\"] = ','.join(get_vars)\n",
    "  predicates[\"for\"] = \"county:\" + county\n",
    "  predicates[\"in\"] = \"state:\" + state\n",
    "  \n",
    "  return(predicates)\n",
    "\n",
    "#def createPredicatesAge(county, token):\n",
    "  #  '''\n",
    "  #create predicates/headers for the CHAS data API\n",
    "  #  county - County id for which we want to download the cost burden\n",
    "  #  token - API token to access the CHAS API, CHN needs to register for CHAS API and get this token \n",
    "   # '''\n",
    "    #predicates = {}\n",
    "    #predicates['type'] = 3\n",
    "    #predicates['stateId'] = 26\n",
    "    ##predicates['entityId'] = county\n",
    "    #auth_token_string = \"Bearer \"+ token\n",
    "    #headers = {\"Authorization\": auth_token_string}\n",
    "    #return(predicates, headers)\n",
    "\n",
    "\n",
    "def download_data(base_uri,predicates, path, filename, headers=''):\n",
    "    filepath = path + filename\n",
    "    if os.path.isfile(filepath):\n",
    "        print(filepath)\n",
    "        print('file already exists, clearing and updating')\n",
    "        open(filepath, 'w').close()\n",
    "    #else:\n",
    "        result = requests.get(base_uri, params=predicates, headers=headers) \n",
    "        if result.status_code == 200:\n",
    "          with open(filepath, 'wb') as f:\n",
    "              f.write(result.content)\n",
    "        else:\n",
    "          print('API returned Erro: ', result.status_code, '\\n', 'Downloading of data failed.',  \\\n",
    "                'Please check the API')\n",
    "    else: \n",
    "        result = requests.get(base_uri, params=predicates, headers=headers) \n",
    "        if result.status_code == 200:\n",
    "          with open(filepath, 'wb') as f:\n",
    "              f.write(result.content)\n",
    "        else:\n",
    "          print('API returned Erro: ', result.status_code, '\\n', 'Downloading of data failed.',  \\\n",
    "                'Please check the API')"
   ],
   "outputs": [],
   "metadata": {}
  },
  {
   "cell_type": "code",
   "execution_count": 96,
   "source": [
    "#Download Race Population Counts\n",
    "tableId = 'P1'\n",
    "var_cnt = 9\n",
    "predicates = createPredicatesRaceandEthnicityPopCount(tableId, var_cnt)\n",
    "ASSETS_PATH = ''\n",
    "download_data(datasets_and_uris[RACE_POP_COUNT],predicates, ASSETS_PATH, RACE_POP_COUNT)"
   ],
   "outputs": [
    {
     "output_type": "stream",
     "name": "stdout",
     "text": [
      "RacePopCount.json\n",
      "file already exists, clearing and updating\n"
     ]
    }
   ],
   "metadata": {}
  },
  {
   "cell_type": "code",
   "execution_count": 97,
   "source": [
    "#Download Ethnicity Counts Data\n",
    "#Total Population Count; Hispanic or Latino of any race (Population Count); Non-Hispanic/Non-Latino (Population Count)\n",
    "tableId = 'P2'\n",
    "var_cnt = 3\n",
    "predicates = createPredicatesRaceandEthnicityPopCount(tableId, var_cnt)\n",
    "ASSETS_PATH = ''\n",
    "download_data(datasets_and_uris[ETHNIC_COUNT],predicates, ASSETS_PATH, ETHNIC_COUNT)\n"
   ],
   "outputs": [
    {
     "output_type": "stream",
     "name": "stdout",
     "text": [
      "EthnicPopCount.json\n",
      "file already exists, clearing and updating\n"
     ]
    }
   ],
   "metadata": {}
  },
  {
   "cell_type": "markdown",
   "source": [
    "## Data Transformations - One Race Population Count and Two or More Races Total Population Count"
   ],
   "metadata": {}
  },
  {
   "cell_type": "code",
   "execution_count": 98,
   "source": [
    "race_pop_count_df = pd.read_json('RacePopCount.json')\n",
    "race_pop_count_df.rename(columns={0:'total', 1:'one_tot',2:'one_wht', 3:'one_blk',\n",
    "4:'one_ind', 5:'one_asn', 6:'one_pacific', 7:'one_other', 8:'two_more_total', 9:'NAME', 10:'state', 11:'county'}, inplace=True)\n",
    "race_pop_count_df = race_pop_count_df.iloc[1:, :]\n",
    "race_pop_count_df['NAME'] = race_pop_count_df['NAME'].str.split(',', expand=True).iloc[:, 0]\n",
    "race_pop_count_df.drop(columns=['state', 'county'], inplace=True)"
   ],
   "outputs": [],
   "metadata": {}
  },
  {
   "cell_type": "code",
   "execution_count": 99,
   "source": [
    "columns = list(race_pop_count_df.columns[:-1])\n",
    "race_pop_count_df = pd.melt(race_pop_count_df, id_vars=['NAME'], value_vars=columns)\n",
    "our_counties = ['Wayne County', 'Macomb County', 'Oakland County']\n",
    "race_pop_count_df = race_pop_count_df[race_pop_count_df['NAME'].isin(our_counties)]\n",
    "race_pop_count_df['value'] = race_pop_count_df['value'].map(lambda x: float(x))"
   ],
   "outputs": [],
   "metadata": {}
  },
  {
   "cell_type": "markdown",
   "source": [
    "## Data Transformations - Ethnic Population Count Hispanic and Non-Hispanic"
   ],
   "metadata": {}
  },
  {
   "cell_type": "code",
   "execution_count": 100,
   "source": [
    "ethnic_pop_count_df = pd.read_json('EthnicPopCount.json')"
   ],
   "outputs": [],
   "metadata": {}
  },
  {
   "cell_type": "code",
   "execution_count": 101,
   "source": [
    "ethnic_pop_count_df.rename(columns={0:'total', 1:'tot_hisp_latino', 2:'tot_not_hisp', 3:'NAME',4:'state', 5:'county'}, inplace=True)\n",
    "ethnic_pop_count_df = ethnic_pop_count_df.iloc[1:, :]\n",
    "ethnic_pop_count_df['NAME'] = ethnic_pop_count_df['NAME'].str.split(',', expand=True).iloc[:, 0]\n",
    "ethnic_pop_count_df.drop(columns=['state', 'county'], inplace=True)"
   ],
   "outputs": [],
   "metadata": {}
  },
  {
   "cell_type": "code",
   "execution_count": 102,
   "source": [
    "ethnic_pop_count_df = pd.melt(ethnic_pop_count_df, id_vars=['NAME'], value_vars=['tot_hisp_latino', 'tot_not_hisp', 'total'])\n",
    "our_counties = ['Wayne County', 'Macomb County', 'Oakland County']\n",
    "ethnic_pop_count_df = ethnic_pop_count_df[ethnic_pop_count_df['NAME'].isin(our_counties)]\n",
    "ethnic_pop_count_df['value'] = ethnic_pop_count_df['value'].map(lambda x: float(x))\n",
    "ethnic_pop_count_df = ethnic_pop_count_df[ethnic_pop_count_df['NAME'].isin(our_counties)]\n",
    "ethnic_pop_count_df['value'] = ethnic_pop_count_df['value'].map(lambda x: float(x))"
   ],
   "outputs": [],
   "metadata": {}
  },
  {
   "cell_type": "markdown",
   "source": [
    "## Data Visualizations - Race Population Count"
   ],
   "metadata": {}
  },
  {
   "cell_type": "code",
   "execution_count": 103,
   "source": [
    "sns.set_style('whitegrid')\n",
    "variables = {}\n",
    "for variable in race_pop_count_df['variable'].unique(): \n",
    "    variables[variable] = race_pop_count_df.loc[race_pop_count_df['variable']==variable, 'value']\n",
    "\n",
    "fig, ax = plt.subplots(figsize=(10,7))\n",
    "\n",
    "total = ax.bar(x - width/2, variables['total'], width, label='total')\n",
    "one_tot = ax.bar(x - width/2, variables['one_tot'], width, label='one_race')\n",
    "one_wht = ax.bar(x - width/2, variables['one_wht'], width, label='one_white')\n",
    "one_blk = ax.bar(x - width/2, variables['one_blk'], width, label='one_black')\n",
    "one_ind = ax.bar(x - width/2, variables['one_ind'], width, label='one_american_indian')\n",
    "one_asn = ax.bar(x - width/2, variables['one_asn'], width, label='one_asian')\n",
    "one_pacific = ax.bar(x - width/2, variables['one_pacific'], width, label='one_pacific')\n",
    "one_other = ax.bar(x - width/2, variables['one_other'], width, label='one_other')\n",
    "two_more_total = ax.bar(x - width/2, variables['two_more_total'], width, label='two_or_more_races')\n",
    "ax.set_ylabel('Population Count')\n",
    "ax.set_title('Population Count by Race')\n",
    "ax.ticklabel_format(useOffset=False, style='plain')\n",
    "ax.legend()\n",
    "fig.tight_layout()\n",
    "plt.xticks(x, labels)\n",
    "plt.show()\n"
   ],
   "outputs": [
    {
     "output_type": "display_data",
     "data": {
      "image/png": "[encoded data removed]",
      "text/plain": [
       "<Figure size 720x504 with 1 Axes>"
      ]
     },
     "metadata": {}
    }
   ],
   "metadata": {}
  },
  {
   "cell_type": "markdown",
   "source": [
    "## Data Visualizations - Ethnic Population Count Hispanic and Non-Hispanic"
   ],
   "metadata": {}
  },
  {
   "cell_type": "code",
   "execution_count": 104,
   "source": [
    "sns.set_style('whitegrid')\n",
    "x = np.arange(len(ethnic_pop_count_df['NAME'].unique()))\n",
    "labels = list(ethnic_pop_count_df['NAME'].unique())\n",
    "width = 0.35\n",
    "hisp_latino = ethnic_pop_count_df.loc[ethnic_pop_count_df['variable']=='tot_hisp_latino', 'value']\n",
    "not_hisp_latino = ethnic_pop_count_df.loc[ethnic_pop_count_df['variable']=='tot_not_hisp', 'value']\n",
    "fig, ax = plt.subplots()\n",
    "ax.bar(x - width/2, hisp_latino, width, label='hispanic or latino')\n",
    "ax.bar(x + width/2, not_hisp_latino, width, label='non hispanic or latino')\n",
    "\n",
    "\n",
    "ax.set_ylabel('Population Count')\n",
    "ax.set_title('Population Count by Ethnicity - Hispanic or Latino')\n",
    "ax.ticklabel_format(useOffset=False, style='plain')\n",
    "ax.legend()\n",
    "fig.tight_layout()\n",
    "plt.xticks(x, labels)\n",
    "plt.show()"
   ],
   "outputs": [
    {
     "output_type": "display_data",
     "data": {
      "image/png": "[encoded data removed]",
      "text/plain": [
       "<Figure size 432x288 with 1 Axes>"
      ]
     },
     "metadata": {}
    }
   ],
   "metadata": {}
  }
 ],
 "metadata": {
  "orig_nbformat": 4,
  "language_info": {
   "name": "python",
   "version": "3.8.5",
   "mimetype": "text/x-python",
   "codemirror_mode": {
    "name": "ipython",
    "version": 3
   },
   "pygments_lexer": "ipython3",
   "nbconvert_exporter": "python",
   "file_extension": ".py"
  },
  "kernelspec": {
   "name": "python3",
   "display_name": "Python 3.8.5 64-bit ('base': conda)"
  },
  "interpreter": {
   "hash": "5b0e7be90a4a7c1a8aa0bc557e65693b87cf96cc2dcaea1d5cb62138bd238e79"
  }
 },
 "nbformat": 4,
 "nbformat_minor": 2
}