{
 "cells": [
  {
   "cell_type": "markdown",
   "source": [
    "## Demographic Analysis"
   ],
   "metadata": {}
  },
  {
   "cell_type": "markdown",
   "source": [
    "## Datasets"
   ],
   "metadata": {}
  },
  {
   "cell_type": "markdown",
   "source": [
    "## Dataset and documentation: \n",
    "https://api.census.gov/data/2020/dec/pl.html\n",
    "https://www.youtube.com/watch?v=vv4MZgqgHe8"
   ],
   "metadata": {}
  },
  {
   "cell_type": "code",
   "execution_count": 69,
   "source": [
    "RACE_POP_COUNT = 'RacePopCount.json'\n",
    "datasets_and_uris = {}\n",
    "datasets_and_uris[RACE_POP_COUNT] = \"http://api.census.gov/data/2020/dec/pl\"\n",
    "\n",
    "#ASSETS_PATH = 'RacePopCount'"
   ],
   "outputs": [],
   "metadata": {}
  },
  {
   "cell_type": "markdown",
   "source": [
    "### Required Packages"
   ],
   "metadata": {}
  },
  {
   "cell_type": "code",
   "execution_count": 57,
   "source": [
    "from collections import Counter\n",
    "import numpy as np\n",
    "import pandas as pd\n",
    "import altair as alt\n",
    "from altair import datum\n",
    "import json\n",
    "import requests\n",
    "import random\n",
    "import time\n",
    "import re\n",
    "import requests\n",
    "import os\n",
    "import warnings\n",
    "warnings.simplefilter(action=\"ignore\", category=FutureWarning)\n"
   ],
   "outputs": [],
   "metadata": {}
  },
  {
   "cell_type": "markdown",
   "source": [
    "## Downloading Required Data"
   ],
   "metadata": {}
  },
  {
   "cell_type": "code",
   "execution_count": 70,
   "source": [
    "def createPredicatesRacePopCount(tableId, var_cnt):\n",
    "  '''\n",
    "  create predicates for the census data API\n",
    "  base_uri - This is the base uri for the census API\n",
    "  tableId - table name, which we want to download\n",
    "  var_cnt - Number of variables the table has \n",
    "  '''\n",
    "  county = \"*\" #\"099,163,125\"\n",
    "  state= \"26\"\n",
    "  estimate = []\n",
    "  #moe = []\n",
    "  for i in range(2, var_cnt+1):\n",
    "    estimate.append(tableId + '_00' + str(i) + 'N')\n",
    "    #moe.append(tableId + '_00' + str(i) + 'M')\n",
    "\n",
    "  get_vars = estimate + ['NAME'] #+ moe\n",
    "  predicates = {}\n",
    "  predicates[\"get\"] = ','.join(get_vars)\n",
    "  predicates[\"for\"] = \"county:\" + county\n",
    "  predicates[\"in\"] = \"state:\" + state\n",
    "  \n",
    "  return(predicates)\n",
    "\n",
    "\n",
    "def download_data(base_uri,predicates, path, filename, headers=''):\n",
    "    filepath = path + filename\n",
    "    if os.path.isfile(filepath):\n",
    "        print(filepath)\n",
    "        print('file already exists, no need to download')\n",
    "    else:\n",
    "        result = requests.get(base_uri, params=predicates, headers=headers) \n",
    "        if result.status_code == 200:\n",
    "          with open(filepath, 'wb') as f:\n",
    "              f.write(result.content)\n",
    "        else:\n",
    "          print('API returned Erro: ', result.status_code, '\\n', 'Downloading of data failed.',  \\\n",
    "                'Please check the API')"
   ],
   "outputs": [],
   "metadata": {}
  },
  {
   "cell_type": "code",
   "execution_count": 73,
   "source": [
    "tableId = 'P1'\n",
    "var_cnt = 9\n",
    "predicates = createPredicatesRacePopCount(tableId, var_cnt)\n",
    "ASSETS_PATH = ''\n",
    "download_data(datasets_and_uris[RACE_POP_COUNT],predicates, ASSETS_PATH, RACE_POP_COUNT)"
   ],
   "outputs": [],
   "metadata": {}
  },
  {
   "cell_type": "markdown",
   "source": [
    "## Data Transformations - One Race Population Count and Two or More Races Total Population Count"
   ],
   "metadata": {}
  },
  {
   "cell_type": "code",
   "execution_count": 75,
   "source": [
    "race_pop_count_df = pd.read_json('RacePopCount.json')"
   ],
   "outputs": [],
   "metadata": {}
  },
  {
   "cell_type": "code",
   "execution_count": null,
   "source": [],
   "outputs": [],
   "metadata": {}
  }
 ],
 "metadata": {
  "orig_nbformat": 4,
  "language_info": {
   "name": "python",
   "version": "3.8.5",
   "mimetype": "text/x-python",
   "codemirror_mode": {
    "name": "ipython",
    "version": 3
   },
   "pygments_lexer": "ipython3",
   "nbconvert_exporter": "python",
   "file_extension": ".py"
  },
  "kernelspec": {
   "name": "python3",
   "display_name": "Python 3.8.5 64-bit ('base': conda)"
  },
  "interpreter": {
   "hash": "5b0e7be90a4a7c1a8aa0bc557e65693b87cf96cc2dcaea1d5cb62138bd238e79"
  }
 },
 "nbformat": 4,
 "nbformat_minor": 2
}